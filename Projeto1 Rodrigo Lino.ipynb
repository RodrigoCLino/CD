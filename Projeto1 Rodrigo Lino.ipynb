{
 "cells": [
  {
   "cell_type": "markdown",
   "metadata": {},
   "source": [
    "___\n",
    "# PROJETO 1"
   ]
  },
  {
   "cell_type": "markdown",
   "metadata": {},
   "source": [
    "## <font color='red'>Rodrigo Cavalieri Lino</font>\n",
    "___"
   ]
  },
  {
   "cell_type": "markdown",
   "metadata": {},
   "source": [
    "## <font color='blue'>Ser aposentado no Nordeste é pior do que ser aposentado no Suldeste em 2014 ?</font>"
   ]
  },
  {
   "cell_type": "markdown",
   "metadata": {},
   "source": [
    "## Introdução\n",
    "\n",
    "Escolhi trabalhar analisando a diferença entre os aposentados do Sudeste com os do Nordeste, pois a emigração desta última região vem diminuindo ao longo do tempo. Logo quis comparar a situação dos aposentados deste local com os aposentados do principal destino dos emigrantes, além de comparar com os aposentados do Brasil de forma geral. \n",
    " \n",
    " Para isso escolhi analisar apenas aposentados com renda declarada, olhando sua cor, sua posição na família, região de moradia, renda, gênero e idade."
   ]
  },
  {
   "cell_type": "markdown",
   "metadata": {},
   "source": [
    "___\n",
    "## Análise e Resultados"
   ]
  },
  {
   "cell_type": "code",
   "execution_count": 8,
   "metadata": {
    "collapsed": true
   },
   "outputs": [],
   "source": [
    "%matplotlib inline\n",
    "import pandas as pd\n",
    "import matplotlib.pyplot as plt\n",
    "import numpy as np\n",
    "import os"
   ]
  },
  {
   "cell_type": "code",
   "execution_count": 9,
   "metadata": {
    "collapsed": false
   },
   "outputs": [
    {
     "name": "stdout",
     "output_type": "stream",
     "text": [
      "Esperamos trabalhar no diretório\n",
      "C:\\Users\\digol\\Desktop\\Projeto1\n"
     ]
    }
   ],
   "source": [
    "print('Esperamos trabalhar no diretório')\n",
    "print(os.getcwd())"
   ]
  },
  {
   "cell_type": "code",
   "execution_count": 10,
   "metadata": {
    "collapsed": false
   },
   "outputs": [],
   "source": [
    "#Leitura da base já em formato de DataFrame e extensão .csv\n",
    "PNAD2014 = pd.read_csv('PES2014.csv', sep=',')"
   ]
  },
  {
   "cell_type": "markdown",
   "metadata": {},
   "source": [
    "___"
   ]
  },
  {
   "cell_type": "code",
   "execution_count": 11,
   "metadata": {
    "collapsed": false
   },
   "outputs": [
    {
     "data": {
      "text/html": [
       "<div>\n",
       "<table border=\"1\" class=\"dataframe\">\n",
       "  <thead>\n",
       "    <tr style=\"text-align: right;\">\n",
       "      <th></th>\n",
       "      <th>Unnamed: 0</th>\n",
       "      <th>V0101</th>\n",
       "      <th>UF</th>\n",
       "      <th>V0102</th>\n",
       "      <th>V0103</th>\n",
       "      <th>V0301</th>\n",
       "      <th>V0302</th>\n",
       "      <th>V3031</th>\n",
       "      <th>V3032</th>\n",
       "      <th>V3033</th>\n",
       "      <th>...</th>\n",
       "      <th>V4741</th>\n",
       "      <th>V4742</th>\n",
       "      <th>V4743</th>\n",
       "      <th>V4745</th>\n",
       "      <th>V4746</th>\n",
       "      <th>V4747</th>\n",
       "      <th>V4748</th>\n",
       "      <th>V4749</th>\n",
       "      <th>V4750</th>\n",
       "      <th>V9993</th>\n",
       "    </tr>\n",
       "  </thead>\n",
       "  <tbody>\n",
       "    <tr>\n",
       "      <th>0</th>\n",
       "      <td>0</td>\n",
       "      <td>2014</td>\n",
       "      <td>11</td>\n",
       "      <td>15</td>\n",
       "      <td>1</td>\n",
       "      <td>1</td>\n",
       "      <td>2</td>\n",
       "      <td>19</td>\n",
       "      <td>8</td>\n",
       "      <td>1987</td>\n",
       "      <td>...</td>\n",
       "      <td>3</td>\n",
       "      <td>500</td>\n",
       "      <td>3</td>\n",
       "      <td>3</td>\n",
       "      <td>1</td>\n",
       "      <td>2</td>\n",
       "      <td>2</td>\n",
       "      <td>1</td>\n",
       "      <td>500</td>\n",
       "      <td>20160623</td>\n",
       "    </tr>\n",
       "    <tr>\n",
       "      <th>1</th>\n",
       "      <td>1</td>\n",
       "      <td>2014</td>\n",
       "      <td>11</td>\n",
       "      <td>15</td>\n",
       "      <td>1</td>\n",
       "      <td>2</td>\n",
       "      <td>4</td>\n",
       "      <td>19</td>\n",
       "      <td>1</td>\n",
       "      <td>1986</td>\n",
       "      <td>...</td>\n",
       "      <td>3</td>\n",
       "      <td>500</td>\n",
       "      <td>3</td>\n",
       "      <td>4</td>\n",
       "      <td>2</td>\n",
       "      <td>NaN</td>\n",
       "      <td>2</td>\n",
       "      <td>1</td>\n",
       "      <td>500</td>\n",
       "      <td>20160623</td>\n",
       "    </tr>\n",
       "    <tr>\n",
       "      <th>2</th>\n",
       "      <td>2</td>\n",
       "      <td>2014</td>\n",
       "      <td>11</td>\n",
       "      <td>15</td>\n",
       "      <td>1</td>\n",
       "      <td>3</td>\n",
       "      <td>2</td>\n",
       "      <td>14</td>\n",
       "      <td>5</td>\n",
       "      <td>2013</td>\n",
       "      <td>...</td>\n",
       "      <td>3</td>\n",
       "      <td>500</td>\n",
       "      <td>3</td>\n",
       "      <td>1</td>\n",
       "      <td>NaN</td>\n",
       "      <td>NaN</td>\n",
       "      <td>NaN</td>\n",
       "      <td>NaN</td>\n",
       "      <td>500</td>\n",
       "      <td>20160623</td>\n",
       "    </tr>\n",
       "    <tr>\n",
       "      <th>3</th>\n",
       "      <td>3</td>\n",
       "      <td>2014</td>\n",
       "      <td>11</td>\n",
       "      <td>15</td>\n",
       "      <td>2</td>\n",
       "      <td>1</td>\n",
       "      <td>2</td>\n",
       "      <td>8</td>\n",
       "      <td>4</td>\n",
       "      <td>1963</td>\n",
       "      <td>...</td>\n",
       "      <td>2</td>\n",
       "      <td>1150</td>\n",
       "      <td>4</td>\n",
       "      <td>2</td>\n",
       "      <td>1</td>\n",
       "      <td>2</td>\n",
       "      <td>2</td>\n",
       "      <td>1</td>\n",
       "      <td>1150</td>\n",
       "      <td>20160623</td>\n",
       "    </tr>\n",
       "    <tr>\n",
       "      <th>4</th>\n",
       "      <td>4</td>\n",
       "      <td>2014</td>\n",
       "      <td>11</td>\n",
       "      <td>15</td>\n",
       "      <td>2</td>\n",
       "      <td>2</td>\n",
       "      <td>4</td>\n",
       "      <td>6</td>\n",
       "      <td>11</td>\n",
       "      <td>1970</td>\n",
       "      <td>...</td>\n",
       "      <td>2</td>\n",
       "      <td>1150</td>\n",
       "      <td>4</td>\n",
       "      <td>3</td>\n",
       "      <td>1</td>\n",
       "      <td>2</td>\n",
       "      <td>2</td>\n",
       "      <td>1</td>\n",
       "      <td>1150</td>\n",
       "      <td>20160623</td>\n",
       "    </tr>\n",
       "  </tbody>\n",
       "</table>\n",
       "<p>5 rows × 342 columns</p>\n",
       "</div>"
      ],
      "text/plain": [
       "   Unnamed: 0  V0101  UF  V0102  V0103  V0301  V0302  V3031  V3032  V3033  \\\n",
       "0           0   2014  11     15      1      1      2     19      8   1987   \n",
       "1           1   2014  11     15      1      2      4     19      1   1986   \n",
       "2           2   2014  11     15      1      3      2     14      5   2013   \n",
       "3           3   2014  11     15      2      1      2      8      4   1963   \n",
       "4           4   2014  11     15      2      2      4      6     11   1970   \n",
       "\n",
       "     ...     V4741  V4742  V4743  V4745  V4746  V4747  V4748  V4749  V4750  \\\n",
       "0    ...         3    500      3      3      1      2      2      1    500   \n",
       "1    ...         3    500      3      4      2    NaN      2      1    500   \n",
       "2    ...         3    500      3      1    NaN    NaN    NaN    NaN    500   \n",
       "3    ...         2   1150      4      2      1      2      2      1   1150   \n",
       "4    ...         2   1150      4      3      1      2      2      1   1150   \n",
       "\n",
       "      V9993  \n",
       "0  20160623  \n",
       "1  20160623  \n",
       "2  20160623  \n",
       "3  20160623  \n",
       "4  20160623  \n",
       "\n",
       "[5 rows x 342 columns]"
      ]
     },
     "execution_count": 11,
     "metadata": {},
     "output_type": "execute_result"
    }
   ],
   "source": [
    "PNAD2014.head()"
   ]
  },
  {
   "cell_type": "code",
   "execution_count": 12,
   "metadata": {
    "collapsed": false
   },
   "outputs": [],
   "source": [
    "dados2014=pd.DataFrame()\n",
    "n=PNAD2014.shape[0]"
   ]
  },
  {
   "cell_type": "code",
   "execution_count": 13,
   "metadata": {
    "collapsed": false
   },
   "outputs": [],
   "source": [
    "dados2014[\"regiao\"]=PNAD2014.UF[(PNAD2014.V4720!=999999999999)&(~PNAD2014.V4720.isnull())& (PNAD2014.V9122==2)] #Regiões\n",
    "dados2014[\"UF\"]=PNAD2014.UF[(PNAD2014.V4720!=999999999999)&(~PNAD2014.V4720.isnull())& (PNAD2014.V9122==2)] #Regiões\n",
    "dados2014[\"idade\"]=PNAD2014.V8005[(PNAD2014.V4720!=999999999999)&(~PNAD2014.V4720.isnull())& (PNAD2014.V9122==2)] #idade em anos da pessoa\n",
    "dados2014[\"posicao_fam\"]=PNAD2014.V0402[(PNAD2014.V4720!=999999999999)&(~PNAD2014.V4720.isnull())& (PNAD2014.V9122==2)] #Posição na família\n",
    "dados2014[\"cor\"]=PNAD2014.V0404[(PNAD2014.V4720!=999999999999)&(~PNAD2014.V4720.isnull())& (PNAD2014.V9122==2)] #Cor ou Raça\n",
    "dados2014[\"genero\"]=PNAD2014.V0302[(PNAD2014.V4720!=999999999999)&(~PNAD2014.V4720.isnull())& (PNAD2014.V9122==2)] #Gênero\n",
    "dados2014[\"rend\"]=PNAD2014.V4720[(PNAD2014.V4720!=999999999999)&(~PNAD2014.V4720.isnull())& (PNAD2014.V9122==2)] #Rendimento mensal "
   ]
  },
  {
   "cell_type": "code",
   "execution_count": 14,
   "metadata": {
    "collapsed": false
   },
   "outputs": [
    {
     "data": {
      "text/html": [
       "<div>\n",
       "<table border=\"1\" class=\"dataframe\">\n",
       "  <thead>\n",
       "    <tr style=\"text-align: right;\">\n",
       "      <th></th>\n",
       "      <th>regiao</th>\n",
       "      <th>UF</th>\n",
       "      <th>idade</th>\n",
       "      <th>posicao_fam</th>\n",
       "      <th>cor</th>\n",
       "      <th>genero</th>\n",
       "      <th>rend</th>\n",
       "    </tr>\n",
       "  </thead>\n",
       "  <tbody>\n",
       "    <tr>\n",
       "      <th>5</th>\n",
       "      <td>11</td>\n",
       "      <td>11</td>\n",
       "      <td>77</td>\n",
       "      <td>1</td>\n",
       "      <td>2</td>\n",
       "      <td>4</td>\n",
       "      <td>724</td>\n",
       "    </tr>\n",
       "    <tr>\n",
       "      <th>11</th>\n",
       "      <td>11</td>\n",
       "      <td>11</td>\n",
       "      <td>68</td>\n",
       "      <td>1</td>\n",
       "      <td>8</td>\n",
       "      <td>4</td>\n",
       "      <td>724</td>\n",
       "    </tr>\n",
       "    <tr>\n",
       "      <th>25</th>\n",
       "      <td>11</td>\n",
       "      <td>11</td>\n",
       "      <td>65</td>\n",
       "      <td>1</td>\n",
       "      <td>2</td>\n",
       "      <td>2</td>\n",
       "      <td>2224</td>\n",
       "    </tr>\n",
       "    <tr>\n",
       "      <th>26</th>\n",
       "      <td>11</td>\n",
       "      <td>11</td>\n",
       "      <td>62</td>\n",
       "      <td>2</td>\n",
       "      <td>8</td>\n",
       "      <td>4</td>\n",
       "      <td>2500</td>\n",
       "    </tr>\n",
       "    <tr>\n",
       "      <th>51</th>\n",
       "      <td>11</td>\n",
       "      <td>11</td>\n",
       "      <td>90</td>\n",
       "      <td>4</td>\n",
       "      <td>4</td>\n",
       "      <td>2</td>\n",
       "      <td>724</td>\n",
       "    </tr>\n",
       "  </tbody>\n",
       "</table>\n",
       "</div>"
      ],
      "text/plain": [
       "    regiao  UF  idade  posicao_fam  cor  genero  rend\n",
       "5       11  11     77            1    2       4   724\n",
       "11      11  11     68            1    8       4   724\n",
       "25      11  11     65            1    2       2  2224\n",
       "26      11  11     62            2    8       4  2500\n",
       "51      11  11     90            4    4       2   724"
      ]
     },
     "execution_count": 14,
     "metadata": {},
     "output_type": "execute_result"
    }
   ],
   "source": [
    "dados2014.head()"
   ]
  },
  {
   "cell_type": "code",
   "execution_count": 15,
   "metadata": {
    "collapsed": false
   },
   "outputs": [
    {
     "name": "stderr",
     "output_type": "stream",
     "text": [
      "C:\\Users\\digol\\Anaconda3\\lib\\site-packages\\ipykernel\\__main__.py:2: SettingWithCopyWarning: \n",
      "A value is trying to be set on a copy of a slice from a DataFrame\n",
      "\n",
      "See the caveats in the documentation: http://pandas.pydata.org/pandas-docs/stable/indexing.html#indexing-view-versus-copy\n",
      "  from ipykernel import kernelapp as app\n",
      "C:\\Users\\digol\\Anaconda3\\lib\\site-packages\\ipykernel\\__main__.py:3: SettingWithCopyWarning: \n",
      "A value is trying to be set on a copy of a slice from a DataFrame\n",
      "\n",
      "See the caveats in the documentation: http://pandas.pydata.org/pandas-docs/stable/indexing.html#indexing-view-versus-copy\n",
      "  app.launch_new_instance()\n",
      "C:\\Users\\digol\\Anaconda3\\lib\\site-packages\\ipykernel\\__main__.py:4: SettingWithCopyWarning: \n",
      "A value is trying to be set on a copy of a slice from a DataFrame\n",
      "\n",
      "See the caveats in the documentation: http://pandas.pydata.org/pandas-docs/stable/indexing.html#indexing-view-versus-copy\n",
      "C:\\Users\\digol\\Anaconda3\\lib\\site-packages\\ipykernel\\__main__.py:5: SettingWithCopyWarning: \n",
      "A value is trying to be set on a copy of a slice from a DataFrame\n",
      "\n",
      "See the caveats in the documentation: http://pandas.pydata.org/pandas-docs/stable/indexing.html#indexing-view-versus-copy\n",
      "C:\\Users\\digol\\Anaconda3\\lib\\site-packages\\ipykernel\\__main__.py:6: SettingWithCopyWarning: \n",
      "A value is trying to be set on a copy of a slice from a DataFrame\n",
      "\n",
      "See the caveats in the documentation: http://pandas.pydata.org/pandas-docs/stable/indexing.html#indexing-view-versus-copy\n"
     ]
    }
   ],
   "source": [
    "#REGIÃO\n",
    "dados2014.regiao[(dados2014.UF >=40) & (dados2014.UF<50)]=1\n",
    "dados2014.regiao[(dados2014.UF >=30) & (dados2014.UF<40)]=2\n",
    "dados2014.regiao[(dados2014.UF >=50) & (dados2014.UF<60)]=3\n",
    "dados2014.regiao[(dados2014.UF >=20) & (dados2014.UF<30)]=4\n",
    "dados2014.regiao[(dados2014.UF >=10) & (dados2014.UF<20)]=5"
   ]
  },
  {
   "cell_type": "code",
   "execution_count": 16,
   "metadata": {
    "collapsed": false
   },
   "outputs": [
    {
     "data": {
      "text/plain": [
       "Sudeste         12121\n",
       "Nordeste        10708\n",
       "Sul              7781\n",
       "Norte            3903\n",
       "Centro-Oeste     3196\n",
       "dtype: int64"
      ]
     },
     "execution_count": 16,
     "metadata": {},
     "output_type": "execute_result"
    }
   ],
   "source": [
    "dados2014.regiao=dados2014.regiao.astype('category')\n",
    "dados2014.regiao.cat.categories=('Sul','Sudeste','Centro-Oeste','Nordeste','Norte')\n",
    "dados2014.regiao.value_counts()"
   ]
  },
  {
   "cell_type": "code",
   "execution_count": 17,
   "metadata": {
    "collapsed": false
   },
   "outputs": [
    {
     "data": {
      "text/plain": [
       "1    0.651330\n",
       "2    0.247978\n",
       "4    0.080193\n",
       "3    0.016919\n",
       "5    0.002917\n",
       "7    0.000345\n",
       "6    0.000318\n",
       "Name: posicao_fam, dtype: float64"
      ]
     },
     "execution_count": 17,
     "metadata": {},
     "output_type": "execute_result"
    }
   ],
   "source": [
    "dados2014.posicao_fam.value_counts(True)"
   ]
  },
  {
   "cell_type": "code",
   "execution_count": 18,
   "metadata": {
    "collapsed": false
   },
   "outputs": [
    {
     "data": {
      "text/plain": [
       "Chefe da casa          0.651330\n",
       "Cônjuge                0.247978\n",
       "Outro parente          0.080193\n",
       "Filho                  0.016919\n",
       "Agregado               0.002917\n",
       "Empregado doméstico    0.000345\n",
       "Pensionista            0.000318\n",
       "dtype: float64"
      ]
     },
     "execution_count": 18,
     "metadata": {},
     "output_type": "execute_result"
    }
   ],
   "source": [
    "#Posição na família\n",
    "dados2014.posicao_fam=dados2014.posicao_fam.astype('category')\n",
    "dados2014.posicao_fam.cat.categories=('Chefe da casa','Cônjuge','Filho','Outro parente','Agregado',\"Pensionista\",'Empregado doméstico')\n",
    "dados2014.posicao_fam.value_counts(True)"
   ]
  },
  {
   "cell_type": "code",
   "execution_count": 19,
   "metadata": {
    "collapsed": false
   },
   "outputs": [
    {
     "data": {
      "text/plain": [
       "Preta       19149\n",
       "Indígena    14844\n",
       "Amarela      3370\n",
       "Parda         206\n",
       "Branca        140\n",
       "dtype: int64"
      ]
     },
     "execution_count": 19,
     "metadata": {},
     "output_type": "execute_result"
    }
   ],
   "source": [
    "#cor ou raça\n",
    "dados2014.cor=dados2014.cor.astype('category')\n",
    "dados2014.cor.cat.categories=('Branca','Preta','Amarela','Parda','Indígena')\n",
    "dados2014.cor.value_counts()"
   ]
  },
  {
   "cell_type": "code",
   "execution_count": 20,
   "metadata": {
    "collapsed": false
   },
   "outputs": [
    {
     "data": {
      "text/plain": [
       "Feminino     19244\n",
       "Masculino    18465\n",
       "dtype: int64"
      ]
     },
     "execution_count": 20,
     "metadata": {},
     "output_type": "execute_result"
    }
   ],
   "source": [
    "#Gênero \n",
    "dados2014.genero=dados2014.genero.astype('category')\n",
    "dados2014.genero.cat.categories=('Masculino','Feminino')\n",
    "dados2014.genero.value_counts()"
   ]
  },
  {
   "cell_type": "code",
   "execution_count": 21,
   "metadata": {
    "collapsed": false
   },
   "outputs": [
    {
     "name": "stdout",
     "output_type": "stream",
     "text": [
      "Pos fam\n",
      "Chefe da casa          65.1\n",
      "Cônjuge                24.8\n",
      "Outro parente           8.0\n",
      "Filho                   1.7\n",
      "Agregado                0.3\n",
      "Empregado doméstico     0.0\n",
      "Pensionista             0.0\n",
      "dtype: float64\n"
     ]
    }
   ],
   "source": [
    "print('Pos fam')\n",
    "ut=(dados2014.posicao_fam.value_counts(True)*100).round(decimals=1)\n",
    "print(ut)\n"
   ]
  },
  {
   "cell_type": "markdown",
   "metadata": {},
   "source": [
    "## Análise no Brasil\n",
    "Inicialmente decide olhar alguns dados com todos os aposentados com renda do Brasil, para possuir uma noção de como esta a situação dos aposentados no país antes de analisar regiões específicas."
   ]
  },
  {
   "cell_type": "code",
   "execution_count": 22,
   "metadata": {
    "collapsed": false,
    "scrolled": false
   },
   "outputs": [
    {
     "name": "stdout",
     "output_type": "stream",
     "text": [
      "Feminino     51\n",
      "Masculino    49\n",
      "dtype: float64 \n",
      "\n"
     ]
    },
    {
     "data": {
      "image/png": "[encoded data removed]",
      "text/plain": [
       "<matplotlib.figure.Figure at 0x200666a7278>"
      ]
     },
     "metadata": {},
     "output_type": "display_data"
    }
   ],
   "source": [
    "ut0=(dados2014.genero.value_counts(True)*100).round(decimals=1)\n",
    "print(ut0,'\\n')\n",
    "plot=ut0.plot(kind=\"bar\", title = \"SEXO\", figsize = (6,6), color = (\"b\", \"g\"))"
   ]
  },
  {
   "cell_type": "code",
   "execution_count": 23,
   "metadata": {
    "collapsed": false
   },
   "outputs": [
    {
     "name": "stdout",
     "output_type": "stream",
     "text": [
      "Preta       50.8\n",
      "Indígena    39.4\n",
      "Amarela      8.9\n",
      "Parda        0.5\n",
      "Branca       0.4\n",
      "dtype: float64 \n",
      "\n"
     ]
    },
    {
     "data": {
      "image/png": "[encoded data removed]",
      "text/plain": [
       "<matplotlib.figure.Figure at 0x2006664ae48>"
      ]
     },
     "metadata": {},
     "output_type": "display_data"
    }
   ],
   "source": [
    "ut1=(dados2014.cor.value_counts(True)*100).round(decimals=1)\n",
    "print(ut1,'\\n')\n",
    "plot=ut1.plot(kind=\"bar\", title = \"COR\", figsize = (6,6),color=(\"k\",\"r\",\"yellow\",\"b\",\"g\"))"
   ]
  },
  {
   "cell_type": "code",
   "execution_count": 24,
   "metadata": {
    "collapsed": false
   },
   "outputs": [
    {
     "data": {
      "text/html": [
       "<div>\n",
       "<table border=\"1\" class=\"dataframe\">\n",
       "  <thead>\n",
       "    <tr style=\"text-align: right;\">\n",
       "      <th>cor</th>\n",
       "      <th>Branca</th>\n",
       "      <th>Preta</th>\n",
       "      <th>Amarela</th>\n",
       "      <th>Parda</th>\n",
       "      <th>Indígena</th>\n",
       "    </tr>\n",
       "    <tr>\n",
       "      <th>regiao</th>\n",
       "      <th></th>\n",
       "      <th></th>\n",
       "      <th></th>\n",
       "      <th></th>\n",
       "      <th></th>\n",
       "    </tr>\n",
       "  </thead>\n",
       "  <tbody>\n",
       "    <tr>\n",
       "      <th>Sul</th>\n",
       "      <td>16</td>\n",
       "      <td>6372</td>\n",
       "      <td>328</td>\n",
       "      <td>52</td>\n",
       "      <td>1013</td>\n",
       "    </tr>\n",
       "    <tr>\n",
       "      <th>Sudeste</th>\n",
       "      <td>17</td>\n",
       "      <td>7100</td>\n",
       "      <td>1195</td>\n",
       "      <td>113</td>\n",
       "      <td>3696</td>\n",
       "    </tr>\n",
       "    <tr>\n",
       "      <th>Centro-Oeste</th>\n",
       "      <td>15</td>\n",
       "      <td>1490</td>\n",
       "      <td>269</td>\n",
       "      <td>17</td>\n",
       "      <td>1405</td>\n",
       "    </tr>\n",
       "    <tr>\n",
       "      <th>Nordeste</th>\n",
       "      <td>42</td>\n",
       "      <td>3156</td>\n",
       "      <td>1243</td>\n",
       "      <td>10</td>\n",
       "      <td>6257</td>\n",
       "    </tr>\n",
       "    <tr>\n",
       "      <th>Norte</th>\n",
       "      <td>50</td>\n",
       "      <td>1031</td>\n",
       "      <td>335</td>\n",
       "      <td>14</td>\n",
       "      <td>2473</td>\n",
       "    </tr>\n",
       "  </tbody>\n",
       "</table>\n",
       "</div>"
      ],
      "text/plain": [
       "cor           Branca  Preta  Amarela  Parda  Indígena\n",
       "regiao                                               \n",
       "Sul               16   6372      328     52      1013\n",
       "Sudeste           17   7100     1195    113      3696\n",
       "Centro-Oeste      15   1490      269     17      1405\n",
       "Nordeste          42   3156     1243     10      6257\n",
       "Norte             50   1031      335     14      2473"
      ]
     },
     "execution_count": 24,
     "metadata": {},
     "output_type": "execute_result"
    }
   ],
   "source": [
    "reg_cor=pd.crosstab( dados2014.regiao,dados2014.cor)\n",
    "reg_cor\n"
   ]
  },
  {
   "cell_type": "code",
   "execution_count": 25,
   "metadata": {
    "collapsed": false
   },
   "outputs": [
    {
     "name": "stdout",
     "output_type": "stream",
     "text": [
      "count    37709.000000\n",
      "mean        67.411095\n",
      "std         10.576550\n",
      "min         11.000000\n",
      "25%         61.000000\n",
      "50%         67.000000\n",
      "75%         74.000000\n",
      "max        112.000000\n",
      "Name: idade, dtype: float64 \n",
      "\n"
     ]
    },
    {
     "data": {
      "text/plain": [
       "count     37709.000000\n",
       "mean       1926.271739\n",
       "std        3301.445636\n",
       "min         610.000000\n",
       "25%         724.000000\n",
       "50%         950.000000\n",
       "75%        1824.000000\n",
       "max      331200.000000\n",
       "Name: rend, dtype: float64"
      ]
     },
     "execution_count": 25,
     "metadata": {},
     "output_type": "execute_result"
    }
   ],
   "source": [
    "print(dados2014.idade.describe(),'\\n')\n",
    "dados2014.rend.describe()"
   ]
  },
  {
   "cell_type": "code",
   "execution_count": 26,
   "metadata": {
    "collapsed": false
   },
   "outputs": [
    {
     "data": {
      "image/png": "[encoded data removed]",
      "text/plain": [
       "<matplotlib.figure.Figure at 0x20065ae3710>"
      ]
     },
     "metadata": {},
     "output_type": "display_data"
    },
    {
     "data": {
      "image/png": "[encoded data removed]",
      "text/plain": [
       "<matplotlib.figure.Figure at 0x20027e49cf8>"
      ]
     },
     "metadata": {},
     "output_type": "display_data"
    },
    {
     "data": {
      "image/png": "[encoded data removed]",
      "text/plain": [
       "<matplotlib.figure.Figure at 0x20027eb8908>"
      ]
     },
     "metadata": {},
     "output_type": "display_data"
    }
   ],
   "source": [
    "plot=dados2014.idade.plot.box()\n",
    "plt.show()\n",
    "plot=dados2014.rend.plot.box()\n",
    "plt.show()\n",
    "faixa_idade=np.arange(10,113,3)\n",
    "plot=dados2014.idade.plot.hist(bins=faixa_idade)\n",
    "plt.title('Histograma da idade dos aposentados no Brasil')\n",
    "plt.show()"
   ]
  },
  {
   "cell_type": "code",
   "execution_count": 27,
   "metadata": {
    "collapsed": false
   },
   "outputs": [
    {
     "name": "stdout",
     "output_type": "stream",
     "text": [
      "Sudeste         32.1\n",
      "Nordeste        28.4\n",
      "Sul             20.6\n",
      "Norte           10.4\n",
      "Centro-Oeste     8.5\n",
      "dtype: float64 \n",
      "\n"
     ]
    },
    {
     "data": {
      "text/plain": [
       "<matplotlib.axes._subplots.AxesSubplot at 0x20027ebd0b8>"
      ]
     },
     "execution_count": 27,
     "metadata": {},
     "output_type": "execute_result"
    },
    {
     "data": {
      "image/png": "[encoded data removed]",
      "text/plain": [
       "<matplotlib.figure.Figure at 0x20065ad54e0>"
      ]
     },
     "metadata": {},
     "output_type": "display_data"
    }
   ],
   "source": [
    "#distribuição dos aposentados pelo país\n",
    "ut2=(dados2014.regiao.value_counts(True)*100).round(decimals=1)\n",
    "print(ut2,'\\n')\n",
    "ut2.plot(kind='pie',title='Aposentados por região',autopct=\"%0.2f\")"
   ]
  },
  {
   "cell_type": "markdown",
   "metadata": {},
   "source": [
    "Observando os resultados, percebemos que a maioria dos aposentados são mulheres (o que já era esperado), mais da metade desta população esta localizada nas regiões Sudeste e Nordeste (reforsando uma possível coparação entre eles), a maioria dos aposentados são negros, indigenas e amarelos (resultado não esperado, já que a maioria da população brasileira é parda e branca), a média da idade dos aposentados é de 67,4 anos e a méda da renda é de R$ 1926.2."
   ]
  },
  {
   "cell_type": "markdown",
   "metadata": {},
   "source": [
    "___\n",
    "## Análise Nordeste e Sudeste\n",
    "Agora já está divido os aposentados do Nordeste e do Sudeste"
   ]
  },
  {
   "cell_type": "code",
   "execution_count": 28,
   "metadata": {
    "collapsed": false
   },
   "outputs": [
    {
     "name": "stdout",
     "output_type": "stream",
     "text": [
      "Renda Nordeste\n",
      "count    10708.000000\n",
      "mean      1463.766623\n",
      "std       2100.269734\n",
      "min        650.000000\n",
      "25%        724.000000\n",
      "50%        724.000000\n",
      "75%       1448.000000\n",
      "max      46000.000000\n",
      "Name: rend, dtype: float64 \n",
      "\n",
      "Renda Sudeste\n",
      "count     12121.000000\n",
      "mean       2190.423150\n",
      "std        4207.375873\n",
      "min         620.000000\n",
      "25%         724.000000\n",
      "50%        1300.000000\n",
      "75%        2200.000000\n",
      "max      331200.000000\n",
      "Name: rend, dtype: float64 \n",
      "\n",
      "idade Nordeste\n",
      "count    10708.000000\n",
      "mean        68.338252\n",
      "std         10.770056\n",
      "min         11.000000\n",
      "25%         62.000000\n",
      "50%         68.000000\n",
      "75%         75.000000\n",
      "max        112.000000\n",
      "Name: idade, dtype: float64 \n",
      "\n",
      "idade Sudeste\n",
      "count    12121.000000\n",
      "mean        67.449138\n",
      "std         10.300962\n",
      "min         16.000000\n",
      "25%         61.000000\n",
      "50%         67.000000\n",
      "75%         74.000000\n",
      "max        107.000000\n",
      "Name: idade, dtype: float64 \n",
      "\n"
     ]
    },
    {
     "data": {
      "image/png": "[encoded data removed]",
      "text/plain": [
       "<matplotlib.figure.Figure at 0x20027bf2198>"
      ]
     },
     "metadata": {},
     "output_type": "display_data"
    },
    {
     "data": {
      "text/plain": [
       "<matplotlib.text.Text at 0x20027a51f98>"
      ]
     },
     "execution_count": 28,
     "metadata": {},
     "output_type": "execute_result"
    },
    {
     "data": {
      "image/png": "[encoded data removed]",
      "text/plain": [
       "<matplotlib.figure.Figure at 0x20027ad3c50>"
      ]
     },
     "metadata": {},
     "output_type": "display_data"
    }
   ],
   "source": [
    "print(\"Renda Nordeste\")\n",
    "print(dados2014[dados2014.regiao==\"Nordeste\"].rend.describe(),\"\\n\")\n",
    "print(\"Renda Sudeste\")\n",
    "print(dados2014[dados2014.regiao==\"Sudeste\"].rend.describe(),\"\\n\")\n",
    "print(\"idade Nordeste\")\n",
    "print(dados2014[dados2014.regiao==\"Nordeste\"].idade.describe(),\"\\n\")\n",
    "print(\"idade Sudeste\")\n",
    "print(dados2014[dados2014.regiao==\"Sudeste\"].idade.describe(),\"\\n\")\n",
    "plot=dados2014[dados2014.regiao==\"Nordeste\"].idade.plot.hist(bins=faixa_idade)\n",
    "plt.xlabel(\"anos\")\n",
    "plt.title(\"Histograma da idade no Nordeste \")\n",
    "plt.show()\n",
    "plot=dados2014[dados2014.regiao==\"Sudeste\"].idade.plot.hist(bins=faixa_idade)\n",
    "plt.xlabel(\"anos\")\n",
    "plt.title(\"Histograma da idade no Sudeste \")"
   ]
  },
  {
   "cell_type": "markdown",
   "metadata": {},
   "source": [
    "Esses gráficos nos motram que a idade média dos aposentados do Nordeste e Sudeste sem bem próximas, porém a média de renda do Sudeste é quase 1000 reais mais alta."
   ]
  },
  {
   "cell_type": "markdown",
   "metadata": {},
   "source": [
    "___\n",
    "## Análise Nordeste e Sudeste Chefe de família\n",
    "Agora além de estar divido em aposentados do Nordeste e do Sudeste, são só os chefes de família ."
   ]
  },
  {
   "cell_type": "code",
   "execution_count": 29,
   "metadata": {
    "collapsed": false
   },
   "outputs": [
    {
     "name": "stdout",
     "output_type": "stream",
     "text": [
      "count    6889.000000\n",
      "mean       68.817535\n",
      "std         9.945975\n",
      "min        18.000000\n",
      "25%        62.000000\n",
      "50%        68.000000\n",
      "75%        75.000000\n",
      "max       107.000000\n",
      "Name: idade, dtype: float64 \n",
      "\n",
      "count    8177.000000\n",
      "mean       67.744772\n",
      "std         9.832429\n",
      "min        24.000000\n",
      "25%        61.000000\n",
      "50%        67.000000\n",
      "75%        74.000000\n",
      "max       107.000000\n",
      "Name: idade, dtype: float64 \n",
      "\n"
     ]
    },
    {
     "data": {
      "text/plain": [
       "<matplotlib.axes._subplots.AxesSubplot at 0x20027b2a240>"
      ]
     },
     "execution_count": 29,
     "metadata": {},
     "output_type": "execute_result"
    },
    {
     "data": {
      "image/png": "[encoded data removed]",
      "text/plain": [
       "<matplotlib.figure.Figure at 0x20027cedcc0>"
      ]
     },
     "metadata": {},
     "output_type": "display_data"
    }
   ],
   "source": [
    "ida_NE=dados2014[dados2014.regiao==\"Nordeste\"].idade[dados2014.posicao_fam==\"Chefe da casa\"]\n",
    "ida_SE=dados2014[dados2014.regiao==\"Sudeste\"].idade[dados2014.posicao_fam==\"Chefe da casa\"]\n",
    "print(ida_NE.describe(),\"\\n\")\n",
    "print(ida_SE.describe(),\"\\n\")\n",
    "b0=pd.DataFrame([dados2014[dados2014.regiao==\"Nordeste\"].idade[dados2014.posicao_fam==\"Chefe da casa\"],dados2014[dados2014.regiao==\"Sudeste\"].idade[dados2014.posicao_fam==\"Chefe da casa\"]],index=(\"Nordeste\",\"Suldeste\"))\n",
    "b0=b0.T\n",
    "b0.plot.box()"
   ]
  },
  {
   "cell_type": "code",
   "execution_count": 33,
   "metadata": {
    "collapsed": false
   },
   "outputs": [
    {
     "name": "stdout",
     "output_type": "stream",
     "text": [
      "count     6889.000000\n",
      "mean      1607.646393\n",
      "std       2335.371757\n",
      "min        682.000000\n",
      "25%        724.000000\n",
      "50%        774.000000\n",
      "75%       1448.000000\n",
      "max      46000.000000\n",
      "Name: rend, dtype: float64 \n",
      "\n",
      "count      8177.000000\n",
      "mean       2420.643145\n",
      "std        4825.580777\n",
      "min         690.000000\n",
      "25%         724.000000\n",
      "50%        1448.000000\n",
      "75%        2500.000000\n",
      "max      331200.000000\n",
      "Name: rend, dtype: float64 \n",
      "\n"
     ]
    },
    {
     "data": {
      "text/plain": [
       "<matplotlib.axes._subplots.AxesSubplot at 0x200279fb7f0>"
      ]
     },
     "execution_count": 33,
     "metadata": {},
     "output_type": "execute_result"
    },
    {
     "data": {
      "image/png": "[encoded data removed]",
      "text/plain": [
       "<matplotlib.figure.Figure at 0x20027a192e8>"
      ]
     },
     "metadata": {},
     "output_type": "display_data"
    }
   ],
   "source": [
    "rend_NE=dados2014[dados2014.regiao==\"Nordeste\"].rend[dados2014.posicao_fam==\"Chefe da casa\"]\n",
    "rend_SE=dados2014[dados2014.regiao==\"Sudeste\"].rend[dados2014.posicao_fam==\"Chefe da casa\"]\n",
    "print(rend_NE.describe(),\"\\n\")\n",
    "print(rend_SE.describe(),\"\\n\")\n",
    "b1=pd.DataFrame([dados2014[dados2014.regiao==\"Nordeste\"].rend[dados2014.posicao_fam==\"Chefe da casa\"],dados2014[dados2014.regiao==\"Sudeste\"].rend[(dados2014.rend!= 331200)&(dados2014.posicao_fam==\"Chefe da casa\")]],index=(\"Nordeste\",\"Suldeste\"))\n",
    "b1=b1.T\n",
    "b1.plot.box()"
   ]
  },
  {
   "cell_type": "code",
   "execution_count": 61,
   "metadata": {
    "collapsed": false
   },
   "outputs": [
    {
     "name": "stdout",
     "output_type": "stream",
     "text": [
      "Nordeste\n",
      "count     6889.000000\n",
      "mean      1607.646393\n",
      "std       2335.371757\n",
      "min        682.000000\n",
      "25%        724.000000\n",
      "50%        774.000000\n",
      "75%       1448.000000\n",
      "max      46000.000000\n",
      "Name: rend, dtype: float64 \n",
      "\n"
     ]
    },
    {
     "data": {
      "image/png": "[encoded data removed]",
      "text/plain": [
       "<matplotlib.figure.Figure at 0x20028a7b160>"
      ]
     },
     "metadata": {},
     "output_type": "display_data"
    },
    {
     "name": "stdout",
     "output_type": "stream",
     "text": [
      "Sudeste\n",
      "count     8176.000000\n",
      "mean      2380.430406\n",
      "std       3172.495107\n",
      "min        690.000000\n",
      "25%        724.000000\n",
      "50%       1448.000000\n",
      "75%       2500.000000\n",
      "max      53800.000000\n",
      "Name: rend, dtype: float64 \n",
      "\n"
     ]
    },
    {
     "data": {
      "image/png": "[encoded data removed]",
      "text/plain": [
       "<matplotlib.figure.Figure at 0x200281cdda0>"
      ]
     },
     "metadata": {},
     "output_type": "display_data"
    }
   ],
   "source": [
    "I_SE=dados2014[dados2014.regiao==\"Sudeste\"].idade[(dados2014.rend!= 331200)&(dados2014.posicao_fam==\"Chefe da casa\")]\n",
    "R_SE=dados2014[dados2014.regiao==\"Sudeste\"].rend[(dados2014.rend!= 331200)&(dados2014.posicao_fam==\"Chefe da casa\")]\n",
    "print(\"Nordeste\")\n",
    "print(rend_NE.describe(),\"\\n\")\n",
    "plt.plot(ida_NE,rend_NE,'o')\n",
    "plt.show()\n",
    "print(\"Sudeste\")\n",
    "print(R_SE.describe(),\"\\n\")\n",
    "plt.plot(ida_SE,R_SE,'o')\n",
    "plt.show()"
   ]
  },
  {
   "cell_type": "code",
   "execution_count": 66,
   "metadata": {
    "collapsed": false
   },
   "outputs": [
    {
     "name": "stdout",
     "output_type": "stream",
     "text": [
      "Coeficiente angular a:  -15.8245449997\n",
      "Coeficiente linear b:  2993.02165298\n"
     ]
    },
    {
     "data": {
      "image/png": "[encoded data removed]",
      "text/plain": [
       "<matplotlib.figure.Figure at 0x2002809a630>"
      ]
     },
     "metadata": {},
     "output_type": "display_data"
    }
   ],
   "source": [
    "def linha_tendencia(dados2014, R_SE, I_SE):\n",
    "    \"\"\" Recebe um dataframe e o nome de suas duas colunas, e faz\n",
    "        o scatterplot dos dois e tenta achar a reta de tendência\n",
    "    \"\"\"\n",
    "    a = dados2014[R_SE].cov(dados2014[I_SE]) / dados2014[R_SE].var()\n",
    "    b = dados2014[I_SE].mean() - a * dados2014[R_SE].mean()\n",
    "\n",
    "    dados2014.plot.scatter(x=R_SE, y=I_SE, color='red')\n",
    "\n",
    "    import matplotlib.pyplot as plt\n",
    "    plt.plot((dados2014[R_SE].min(), dados2014[R_SE].max()), (a * dados2014[R_SE].min() + b, a * dados2014[R_SE].max() + b), color='blue')\n",
    "    \n",
    "    print(\"Coeficiente angular a: \", a)\n",
    "    print(\"Coeficiente linear b: \", b)\n",
    "    \n",
    "    \n",
    "linha_tendencia(dados2014,  \"idade\",\"rend\")"
   ]
  },
  {
   "cell_type": "markdown",
   "metadata": {},
   "source": [
    "Com essa nova qualificação as idades se mantem bem parecidas, porém a diferença entre a renda cresce, porem pelo grafíco de disperção de ponto podemos observar que grande maioria dos pontos estão próximos um do outro em ambos os casos, mas no Sudeste um aposentado possui uma renda muito maior que a maioria , crescendoumpouco a média, mas mesmo assim o Sudeste possui um grupo maior de aposentados com mais renda que no Nordeste."
   ]
  },
  {
   "cell_type": "markdown",
   "metadata": {},
   "source": [
    "\n",
    "\n",
    "___\n",
    "## Conclusão "
   ]
  },
  {
   "cell_type": "markdown",
   "metadata": {
    "collapsed": true
   },
   "source": [
    "Podemos concluir que os aposentados do Sudeste possui uma expectativa de vida muito similar as do Nordeste, porém possuem uma melhor qualidade de vida que os nordestinos, já que possuem uma renda um pouco maior.\n",
    "Também percebemos que os números destas regiões estão de acordo com a média do Brasil.\n",
    "Entretanto a diferença é tão pequena que pode-se dizer que é a relativamente igual ser um aposentado e morar no Sudeste e no Noredeste do Brasil."
   ]
  }
 ],
 "metadata": {
  "anaconda-cloud": {},
  "kernelspec": {
   "display_name": "Python 3",
   "language": "python",
   "name": "python3"
  },
  "language_info": {
   "codemirror_mode": {
    "name": "ipython",
    "version": 3
   },
   "file_extension": ".py",
   "mimetype": "text/x-python",
   "name": "python",
   "nbconvert_exporter": "python",
   "pygments_lexer": "ipython3",
   "version": "3.5.1"
  }
 },
 "nbformat": 4,
 "nbformat_minor": 0
}
