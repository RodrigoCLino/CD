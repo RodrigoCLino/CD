{
 "cells": [
  {
   "cell_type": "markdown",
   "metadata": {},
   "source": [
    "___\n",
    "# MINIPROJETO 1"
   ]
  },
  {
   "cell_type": "markdown",
   "metadata": {},
   "source": [
    "## <font color='red'>Rodrigo Lino\n",
    "___"
   ]
  },
  {
   "cell_type": "markdown",
   "metadata": {},
   "source": [
    "## <font color='blue'>Quantidade de filhos por mulher em 2014 por país</font>"
   ]
  },
  {
   "cell_type": "markdown",
   "metadata": {},
   "source": [
    "___\n",
    "### Itens 1 a 3 - Resolução:"
   ]
  },
  {
   "cell_type": "code",
   "execution_count": 3,
   "metadata": {
    "collapsed": false
   },
   "outputs": [
    {
     "name": "stdout",
     "output_type": "stream",
     "text": [
      "Esperamos trabalhar no diretório\n",
      "C:\\Users\\digol\\Desktop\\miniprojeto\n"
     ]
    }
   ],
   "source": [
    "%matplotlib inline\n",
    "import pandas as pd\n",
    "import matplotlib.pyplot as plt\n",
    "import numpy as np\n",
    "import os\n",
    "from scipy import stats\n",
    "\n",
    "print('Esperamos trabalhar no diretório')\n",
    "print(os.getcwd())"
   ]
  },
  {
   "cell_type": "code",
   "execution_count": 4,
   "metadata": {
    "collapsed": false
   },
   "outputs": [
    {
     "data": {
      "text/html": [
       "<div>\n",
       "<table border=\"1\" class=\"dataframe\">\n",
       "  <thead>\n",
       "    <tr style=\"text-align: right;\">\n",
       "      <th></th>\n",
       "      <th>Country Name</th>\n",
       "      <th>Country Code</th>\n",
       "      <th>Indicator Name</th>\n",
       "      <th>Indicator Code</th>\n",
       "      <th>1960</th>\n",
       "      <th>1961</th>\n",
       "      <th>1962</th>\n",
       "      <th>1963</th>\n",
       "      <th>1964</th>\n",
       "      <th>1965</th>\n",
       "      <th>...</th>\n",
       "      <th>2006</th>\n",
       "      <th>2007</th>\n",
       "      <th>2008</th>\n",
       "      <th>2009</th>\n",
       "      <th>2010</th>\n",
       "      <th>2011</th>\n",
       "      <th>2012</th>\n",
       "      <th>2013</th>\n",
       "      <th>A2014</th>\n",
       "      <th>2015</th>\n",
       "    </tr>\n",
       "  </thead>\n",
       "  <tbody>\n",
       "    <tr>\n",
       "      <th>0</th>\n",
       "      <td>Aruba</td>\n",
       "      <td>ABW</td>\n",
       "      <td>Fertility rate, total (births per woman)</td>\n",
       "      <td>SP.DYN.TFRT.IN</td>\n",
       "      <td>4.820</td>\n",
       "      <td>4.655</td>\n",
       "      <td>4.471</td>\n",
       "      <td>4.271</td>\n",
       "      <td>4.059</td>\n",
       "      <td>3.842</td>\n",
       "      <td>...</td>\n",
       "      <td>1.754</td>\n",
       "      <td>1.741</td>\n",
       "      <td>1.728</td>\n",
       "      <td>1.716</td>\n",
       "      <td>1.704</td>\n",
       "      <td>1.692</td>\n",
       "      <td>1.680</td>\n",
       "      <td>1.669</td>\n",
       "      <td>1.657</td>\n",
       "      <td>NaN</td>\n",
       "    </tr>\n",
       "    <tr>\n",
       "      <th>1</th>\n",
       "      <td>Andorra</td>\n",
       "      <td>AND</td>\n",
       "      <td>Fertility rate, total (births per woman)</td>\n",
       "      <td>SP.DYN.TFRT.IN</td>\n",
       "      <td>NaN</td>\n",
       "      <td>NaN</td>\n",
       "      <td>NaN</td>\n",
       "      <td>NaN</td>\n",
       "      <td>NaN</td>\n",
       "      <td>NaN</td>\n",
       "      <td>...</td>\n",
       "      <td>1.240</td>\n",
       "      <td>1.180</td>\n",
       "      <td>1.250</td>\n",
       "      <td>1.190</td>\n",
       "      <td>1.270</td>\n",
       "      <td>NaN</td>\n",
       "      <td>NaN</td>\n",
       "      <td>NaN</td>\n",
       "      <td>NaN</td>\n",
       "      <td>NaN</td>\n",
       "    </tr>\n",
       "    <tr>\n",
       "      <th>2</th>\n",
       "      <td>Afghanistan</td>\n",
       "      <td>AFG</td>\n",
       "      <td>Fertility rate, total (births per woman)</td>\n",
       "      <td>SP.DYN.TFRT.IN</td>\n",
       "      <td>7.450</td>\n",
       "      <td>7.450</td>\n",
       "      <td>7.450</td>\n",
       "      <td>7.450</td>\n",
       "      <td>7.450</td>\n",
       "      <td>7.450</td>\n",
       "      <td>...</td>\n",
       "      <td>6.639</td>\n",
       "      <td>6.437</td>\n",
       "      <td>6.218</td>\n",
       "      <td>5.985</td>\n",
       "      <td>5.746</td>\n",
       "      <td>5.506</td>\n",
       "      <td>5.272</td>\n",
       "      <td>5.050</td>\n",
       "      <td>4.843</td>\n",
       "      <td>NaN</td>\n",
       "    </tr>\n",
       "    <tr>\n",
       "      <th>3</th>\n",
       "      <td>Angola</td>\n",
       "      <td>AGO</td>\n",
       "      <td>Fertility rate, total (births per woman)</td>\n",
       "      <td>SP.DYN.TFRT.IN</td>\n",
       "      <td>7.379</td>\n",
       "      <td>7.388</td>\n",
       "      <td>7.396</td>\n",
       "      <td>7.402</td>\n",
       "      <td>7.406</td>\n",
       "      <td>7.408</td>\n",
       "      <td>...</td>\n",
       "      <td>6.671</td>\n",
       "      <td>6.619</td>\n",
       "      <td>6.559</td>\n",
       "      <td>6.492</td>\n",
       "      <td>6.416</td>\n",
       "      <td>6.335</td>\n",
       "      <td>6.251</td>\n",
       "      <td>6.165</td>\n",
       "      <td>6.080</td>\n",
       "      <td>NaN</td>\n",
       "    </tr>\n",
       "    <tr>\n",
       "      <th>4</th>\n",
       "      <td>Albania</td>\n",
       "      <td>ALB</td>\n",
       "      <td>Fertility rate, total (births per woman)</td>\n",
       "      <td>SP.DYN.TFRT.IN</td>\n",
       "      <td>6.489</td>\n",
       "      <td>6.401</td>\n",
       "      <td>6.282</td>\n",
       "      <td>6.133</td>\n",
       "      <td>5.960</td>\n",
       "      <td>5.773</td>\n",
       "      <td>...</td>\n",
       "      <td>1.668</td>\n",
       "      <td>1.635</td>\n",
       "      <td>1.625</td>\n",
       "      <td>1.636</td>\n",
       "      <td>1.663</td>\n",
       "      <td>1.699</td>\n",
       "      <td>1.735</td>\n",
       "      <td>1.765</td>\n",
       "      <td>1.784</td>\n",
       "      <td>NaN</td>\n",
       "    </tr>\n",
       "  </tbody>\n",
       "</table>\n",
       "<p>5 rows × 60 columns</p>\n",
       "</div>"
      ],
      "text/plain": [
       "  Country Name Country Code                            Indicator Name  \\\n",
       "0        Aruba          ABW  Fertility rate, total (births per woman)   \n",
       "1      Andorra          AND  Fertility rate, total (births per woman)   \n",
       "2  Afghanistan          AFG  Fertility rate, total (births per woman)   \n",
       "3       Angola          AGO  Fertility rate, total (births per woman)   \n",
       "4      Albania          ALB  Fertility rate, total (births per woman)   \n",
       "\n",
       "   Indicator Code   1960   1961   1962   1963   1964   1965  ...    2006  \\\n",
       "0  SP.DYN.TFRT.IN  4.820  4.655  4.471  4.271  4.059  3.842  ...   1.754   \n",
       "1  SP.DYN.TFRT.IN    NaN    NaN    NaN    NaN    NaN    NaN  ...   1.240   \n",
       "2  SP.DYN.TFRT.IN  7.450  7.450  7.450  7.450  7.450  7.450  ...   6.639   \n",
       "3  SP.DYN.TFRT.IN  7.379  7.388  7.396  7.402  7.406  7.408  ...   6.671   \n",
       "4  SP.DYN.TFRT.IN  6.489  6.401  6.282  6.133  5.960  5.773  ...   1.668   \n",
       "\n",
       "    2007   2008   2009   2010   2011   2012   2013  A2014  2015  \n",
       "0  1.741  1.728  1.716  1.704  1.692  1.680  1.669  1.657   NaN  \n",
       "1  1.180  1.250  1.190  1.270    NaN    NaN    NaN    NaN   NaN  \n",
       "2  6.437  6.218  5.985  5.746  5.506  5.272  5.050  4.843   NaN  \n",
       "3  6.619  6.559  6.492  6.416  6.335  6.251  6.165  6.080   NaN  \n",
       "4  1.635  1.625  1.636  1.663  1.699  1.735  1.765  1.784   NaN  \n",
       "\n",
       "[5 rows x 60 columns]"
      ]
     },
     "execution_count": 4,
     "metadata": {},
     "output_type": "execute_result"
    }
   ],
   "source": [
    "dados=pd.read_excel('FM.xlsx', sep=',')\n",
    "dados.head()"
   ]
  },
  {
   "cell_type": "code",
   "execution_count": 5,
   "metadata": {
    "collapsed": false
   },
   "outputs": [],
   "source": [
    "dados2014=pd.DataFrame()\n",
    "dados2014[\"Filhos\"]= dados[~dados.A2014.isnull()].A2014"
   ]
  },
  {
   "cell_type": "code",
   "execution_count": 6,
   "metadata": {
    "collapsed": false
   },
   "outputs": [
    {
     "data": {
      "text/plain": [
       "count    246.000000\n",
       "mean       2.772010\n",
       "std        1.342611\n",
       "min        1.205000\n",
       "25%        1.778500\n",
       "50%        2.282000\n",
       "75%        3.593250\n",
       "max        7.599000\n",
       "Name: Filhos, dtype: float64"
      ]
     },
     "execution_count": 6,
     "metadata": {},
     "output_type": "execute_result"
    }
   ],
   "source": [
    "dados2014.Filhos.describe()"
   ]
  },
  {
   "cell_type": "code",
   "execution_count": 42,
   "metadata": {
    "collapsed": false
   },
   "outputs": [
    {
     "data": {
      "image/png": "[encoded data removed]",
      "text/plain": [
       "<matplotlib.figure.Figure at 0x1ca23d3c128>"
      ]
     },
     "metadata": {},
     "output_type": "display_data"
    }
   ],
   "source": [
    "faixa=np.arange(1,8,0.5)\n",
    "plot=dados2014.Filhos.plot.hist(bins=faixa)"
   ]
  },
  {
   "cell_type": "markdown",
   "metadata": {
    "collapsed": true
   },
   "source": [
    "___\n",
    "### Itens 4 a 6 - Resolução:"
   ]
  },
  {
   "cell_type": "markdown",
   "metadata": {
    "collapsed": true
   },
   "source": [
    "O histograma mostra uma assimetria positiva, isso deve ocorrer já que a grande maioria dos países possuem piramides populacionais muito parecidas, que seguem uma tendencia de possuir mais idosos e menos jovens, principalmente nos países desinvolvídos."
   ]
  },
  {
   "cell_type": "markdown",
   "metadata": {
    "collapsed": true
   },
   "source": [
    "Os dados usados são dados contínuos,já que são números quebrados, dois Teoremas que podem ser usados são o Lognormal e a de Weibull. Podemos ver a coerencia por gráfico."
   ]
  },
  {
   "cell_type": "markdown",
   "metadata": {
    "collapsed": true
   },
   "source": [
    "### Lognormal"
   ]
  },
  {
   "cell_type": "code",
   "execution_count": 83,
   "metadata": {
    "collapsed": false,
    "scrolled": true
   },
   "outputs": [
    {
     "data": {
      "image/png": "[encoded data removed]",
      "text/plain": [
       "<matplotlib.figure.Figure at 0x1ca23cb3160>"
      ]
     },
     "metadata": {},
     "output_type": "display_data"
    }
   ],
   "source": [
    "a=sorted(dados2014.Filhos)\n",
    "plt.plot(a, stats.lognorm.pdf(a, 0.63, loc=0, scale=1.342611))\n",
    "plot=dados2014.Filhos.plot.hist(bins=faixa, normed=True)"
   ]
  },
  {
   "cell_type": "markdown",
   "metadata": {},
   "source": [
    "### Weibull"
   ]
  },
  {
   "cell_type": "code",
   "execution_count": 120,
   "metadata": {
    "collapsed": false
   },
   "outputs": [
    {
     "data": {
      "image/png": "[encoded data removed]",
      "text/plain": [
       "<matplotlib.figure.Figure at 0x1ca24af94e0>"
      ]
     },
     "metadata": {},
     "output_type": "display_data"
    }
   ],
   "source": [
    "plt.plot(a, stats.weibull_min.pdf(a, 1.7, loc=0, scale=1.342611))\n",
    "plot=dados2014.Filhos.plot.hist(bins=faixa, normed=True)"
   ]
  },
  {
   "cell_type": "markdown",
   "metadata": {},
   "source": [
    "### Lognormal com fit"
   ]
  },
  {
   "cell_type": "code",
   "execution_count": 68,
   "metadata": {
    "collapsed": false
   },
   "outputs": [
    {
     "data": {
      "text/plain": [
       "(0.8327986905071304, 1.0462701740424416, 1.2561400077748419)"
      ]
     },
     "execution_count": 68,
     "metadata": {},
     "output_type": "execute_result"
    }
   ],
   "source": [
    "b=stats.lognorm.fit(a)\n",
    "b"
   ]
  },
  {
   "cell_type": "code",
   "execution_count": 79,
   "metadata": {
    "collapsed": false
   },
   "outputs": [
    {
     "data": {
      "image/png": "[encoded data removed]",
      "text/plain": [
       "<matplotlib.figure.Figure at 0x1ca2394f828>"
      ]
     },
     "metadata": {},
     "output_type": "display_data"
    }
   ],
   "source": [
    "plt.plot(a, stats.weibull_min.pdf(a, b[0],b[1], b[2]))\n",
    "plot=dados2014.Filhos.plot.hist(bins=faixa, normed=True)"
   ]
  },
  {
   "cell_type": "markdown",
   "metadata": {},
   "source": [
    "### Weibull com fit"
   ]
  },
  {
   "cell_type": "code",
   "execution_count": 65,
   "metadata": {
    "collapsed": false
   },
   "outputs": [
    {
     "data": {
      "text/plain": [
       "(1.1388124808274449, 1.2031868309974043, 1.6431476579638893)"
      ]
     },
     "execution_count": 65,
     "metadata": {},
     "output_type": "execute_result"
    }
   ],
   "source": [
    "c=stats.weibull_min.fit(a)\n",
    "c"
   ]
  },
  {
   "cell_type": "code",
   "execution_count": 70,
   "metadata": {
    "collapsed": false
   },
   "outputs": [
    {
     "data": {
      "image/png": "[encoded data removed]",
      "text/plain": [
       "<matplotlib.figure.Figure at 0x1ca23d6c1d0>"
      ]
     },
     "metadata": {},
     "output_type": "display_data"
    }
   ],
   "source": [
    "plt.plot(a, stats.weibull_min.pdf(a, c[0],c[1], c[2]))\n",
    "plot=dados2014.Filhos.plot.hist(bins=faixa, normed=True)"
   ]
  },
  {
   "cell_type": "markdown",
   "metadata": {},
   "source": [
    "### Escolha dos graficos\n",
    " \n",
    "No caso do Weibull o gráfico feitp com fit ficou nitidamente melhor, porém o lognormal não está muito bom em nenhum dos casos, mas o feito com fit está um pouco melhor, já que apsar de errar muito no primeiro ele passa menos longe do hitograma."
   ]
  },
  {
   "cell_type": "markdown",
   "metadata": {
    "collapsed": true
   },
   "source": [
    "___\n",
    "### Itens 7 a 9 - Resolução:"
   ]
  },
  {
   "cell_type": "code",
   "execution_count": 84,
   "metadata": {
    "collapsed": false
   },
   "outputs": [
    {
     "data": {
      "text/plain": [
       "[<matplotlib.lines.Line2D at 0x1ca23a7a860>]"
      ]
     },
     "execution_count": 84,
     "metadata": {},
     "output_type": "execute_result"
    },
    {
     "data": {
      "image/png": "[encoded data removed]",
      "text/plain": [
       "<matplotlib.figure.Figure at 0x1ca23a7a588>"
      ]
     },
     "metadata": {},
     "output_type": "display_data"
    }
   ],
   "source": [
    "plot=dados2014.Filhos.plot.hist(bins=faixa, normed=True)\n",
    "plt.plot(a, stats.lognorm.pdf(a, b[0],b[1], b[2]))\n",
    "plt.plot(a, stats.weibull_min.pdf(a, c[0],c[1], c[2]))"
   ]
  },
  {
   "cell_type": "markdown",
   "metadata": {},
   "source": [
    "## Q-Q plot"
   ]
  },
  {
   "cell_type": "code",
   "execution_count": 94,
   "metadata": {
    "collapsed": false
   },
   "outputs": [
    {
     "data": {
      "image/png": "[encoded data removed]",
      "text/plain": [
       "<matplotlib.figure.Figure at 0x1ca2412d278>"
      ]
     },
     "metadata": {},
     "output_type": "display_data"
    }
   ],
   "source": [
    "Filhos = pd.Series(sorted(dados2014.Filhos))\n",
    "# Calcula a frequência relativa acumulada com os dados vindos dos arquivos\n",
    "fra = [] # frequencia relativa acumulada\n",
    "for i in range(len(Filhos)):\n",
    "    acc = (i - 0.5) / len(Filhos)\n",
    "    if acc < 0:\n",
    "        acc = 0\n",
    "    fra.append(acc) # ver Magalhães e Lima (pag. 195)\n",
    "\n",
    "# Convertemos fra em uma Series do Pandas\n",
    "fra = pd.Series(data=fra)\n",
    "\n",
    "# Gera os valores dos quantis teóricos para as distribuições analisadas\n",
    "q_log = stats.lognorm.ppf(fra,b[0], loc=b[1], scale=b[2]) # quantis teóricos da exponencial\n",
    "q_weid = stats.weibull_min.ppf(fra,c[0], loc=c[1], scale=c[2])\n",
    "\n",
    "\n",
    "fig = plt.figure(figsize=(12,8))\n",
    "\n",
    "plt.title(\"Q-Q plot: Dados x Lognormal x Weidbull\")\n",
    "\n",
    "log_plot, = plt.plot(Filhos, q_log, 'o', color=\"red\", label=\"Lognormal\")\n",
    "weid_plot, = plt.plot(Filhos, q_weid, 'o', color=\"green\", label = \"Weidbull\")\n",
    "\n",
    "plt.legend(handles=[log_plot, weid_plot])\n",
    "plt.plot((min(Filhos), max(Filhos)), (min(Filhos), max(Filhos)), '-')\n",
    "\n",
    "\n",
    "for i in range(len(Filhos)):\n",
    "    plt.plot((Filhos[i], Filhos[i]), (q_log[i], Filhos[i]), '-', color='red', alpha=0.3  )\n",
    "    plt.plot((Filhos[i], Filhos[i]), (q_weid[i], Filhos[i]), '-', color='green', alpha=0.3  )\n",
    "\n"
   ]
  },
  {
   "cell_type": "markdown",
   "metadata": {},
   "source": [
    "Esse gráfico demontra quão distante esta os modelos teoricos com o real, com ele podemos perseber que o Weibull fica a todo momento mais próximo da reta dos dados reais."
   ]
  },
  {
   "cell_type": "code",
   "execution_count": 106,
   "metadata": {
    "collapsed": false,
    "scrolled": false
   },
   "outputs": [
    {
     "data": {
      "image/png": "[encoded data removed]",
      "text/plain": [
       "<matplotlib.figure.Figure at 0x1ca240264a8>"
      ]
     },
     "metadata": {},
     "output_type": "display_data"
    }
   ],
   "source": [
    "cdf_log = stats.lognorm.cdf(Filhos,b[0], loc=b[1], scale=b[2]) #FDA\n",
    "cdf_weid = stats.weibull_min.cdf(Filhos,c[0], loc=c[1], scale=c[2])\n",
    "\n",
    "\n",
    "fig = plt.figure(figsize=(12,8))\n",
    "\n",
    "plt.title(\"Acumulativa: Dados x Lognormal x Weidbull\")\n",
    "\n",
    "dados_fra_plot, = plt.plot(Filhos, fra, '-', color='black', label=\"F.R.A dos dados\")\n",
    "cdf_log_plot,   = plt.plot(Filhos, cdf_log, '-', color='red', label = \"Acumulativa da Lognormal\")\n",
    "cdf_weid_plot, = plt.plot(Filhos, cdf_weid, '-', color='green', label = \"Acumulativa da Weidbull\")\n",
    "\n",
    "plt.legend(handles=[dados_fra_plot, cdf_log_plot, cdf_weid_plot])\n",
    "\n",
    "\n",
    "for i in range(len(Filhos)):\n",
    "    plt.plot((Filhos[i], Filhos[i]), (fra[i], cdf_log[i]), ':', color=\"red\", alpha=0.3)\n",
    "    #Omitido para não poluir muito o gráfico\n",
    "    plt.plot((Filhos[i], Filhos[i]), (fra[i], cdf_weid[i]), '--', color=\"green\", alpha=0.3)\n",
    "    "
   ]
  },
  {
   "cell_type": "markdown",
   "metadata": {},
   "source": [
    "Esse gráfico demonstra como as frequencias das funções acumulada das probababilidades teóricas da fução acumulada da probabilidade real, e o analisando a lognormal aparenta estar mais próxima da real."
   ]
  },
  {
   "cell_type": "markdown",
   "metadata": {},
   "source": [
    "___\n",
    "### Itens 10 e 11 - Resolução:"
   ]
  },
  {
   "cell_type": "markdown",
   "metadata": {
    "collapsed": true
   },
   "source": [
    "### Calculo dos erros"
   ]
  },
  {
   "cell_type": "code",
   "execution_count": 109,
   "metadata": {
    "collapsed": false
   },
   "outputs": [
    {
     "name": "stdout",
     "output_type": "stream",
     "text": [
      "Erro quadrático da lognormal :55.200\n",
      "\n",
      "Erro quadrático da weidbull :11.512\n",
      "\n"
     ]
    }
   ],
   "source": [
    "erro_quadratico_log = sum((Filhos - q_log)**2)\n",
    "erro_quadratico_weid = sum((Filhos - q_weid)**2)\n",
    "\n",
    "print(\"Erro quadrático da lognormal :{:4.3f}\\n\".format(erro_quadratico_log))\n",
    "print(\"Erro quadrático da weidbull :{:4.3f}\\n\".format(erro_quadratico_weid))\n"
   ]
  },
  {
   "cell_type": "code",
   "execution_count": 111,
   "metadata": {
    "collapsed": false
   },
   "outputs": [
    {
     "name": "stdout",
     "output_type": "stream",
     "text": [
      "Erro quadratico médio da lognormal : 0.22438902985\n",
      "Erro quadratico médio da weidbull : 0.0467985294784\n"
     ]
    }
   ],
   "source": [
    "eqm_log = erro_quadratico_log/len(Filhos)\n",
    "eqm_weid = erro_quadratico_weid/len(Filhos)\n",
    "\n",
    "print(\"Erro quadratico médio da lognormal :\", eqm_log)\n",
    "print(\"Erro quadratico médio da weidbull :\", eqm_weid)"
   ]
  },
  {
   "cell_type": "code",
   "execution_count": 112,
   "metadata": {
    "collapsed": false
   },
   "outputs": [
    {
     "name": "stdout",
     "output_type": "stream",
     "text": [
      "Soma de diferenças da lognormal : 49.5063950358\n",
      "Soma de diferenças da weid : 34.2244894518\n"
     ]
    }
   ],
   "source": [
    "soma_diferenças_log = sum(abs(Filhos - q_log))\n",
    "soma_diferenças_weid = sum(abs(Filhos - q_weid))\n",
    "\n",
    "print(\"Soma de diferenças da lognormal :\", soma_diferenças_log)\n",
    "print(\"Soma de diferenças da weid :\", soma_diferenças_weid)\n"
   ]
  },
  {
   "cell_type": "markdown",
   "metadata": {},
   "source": [
    "Essas contas demosntrão que o modelo teorico Weibull está de fato mais próximo dos dados reias que a lognormal."
   ]
  },
  {
   "cell_type": "markdown",
   "metadata": {
    "collapsed": true
   },
   "source": [
    "### Calculo dos erros nas CDFs"
   ]
  },
  {
   "cell_type": "code",
   "execution_count": 113,
   "metadata": {
    "collapsed": false
   },
   "outputs": [
    {
     "name": "stdout",
     "output_type": "stream",
     "text": [
      "Erro quadrático da CDF da Lognormal versus F.R.A 0.165993356551\n",
      "Erro quadrático da CDF da Weidbull versus F.R.A 0.213575122067\n"
     ]
    }
   ],
   "source": [
    "# Erro quadrático nas CDFs\n",
    "erro_quad_cdf_log = sum((fra - cdf_log)**2)\n",
    "\n",
    "erro_quad_cdf_weid = sum((fra - cdf_weid)**2)\n",
    "\n",
    "print(\"Erro quadrático da CDF da Lognormal versus F.R.A\", erro_quad_cdf_log)\n",
    "print(\"Erro quadrático da CDF da Weidbull versus F.R.A\", erro_quad_cdf_weid)\n",
    "\n"
   ]
  },
  {
   "cell_type": "code",
   "execution_count": 116,
   "metadata": {
    "collapsed": false
   },
   "outputs": [
    {
     "name": "stdout",
     "output_type": "stream",
     "text": [
      "Erro da soma do módulo das diferenças da lognormal versus F.R.A: 4.5617826695249235 \n",
      "Erro da soma do módulo das diferenças da weidbull versus F.R.A: 6.057254019970221\n"
     ]
    }
   ],
   "source": [
    "# Diferenças absolutas\n",
    "soma_difs_cdf_log = sum( abs(fra - cdf_log))\n",
    "soma_difs_cdf_weid = sum( abs(fra - cdf_weid))\n",
    "\n",
    "print(\"Erro da soma do módulo das diferenças da lognormal versus F.R.A: {0} \\nErro da soma do módulo das diferenças da weidbull versus F.R.A: {1}\".format(soma_difs_cdf_log, soma_difs_cdf_weid))"
   ]
  },
  {
   "cell_type": "markdown",
   "metadata": {},
   "source": [
    "Já essas contas demonstrão que apesar de no primeiro caso a weibull estar mais próxima da realidade, quando passamos a analisar os dados acumulados a função lognormal se aproxima mais dos dados exprimatais que a weibull."
   ]
  },
  {
   "cell_type": "markdown",
   "metadata": {},
   "source": [
    "|       Medidas Aderência                  |Lognormal|Weibull|\n",
    "|------------------------------------------|----------|-------|\n",
    "|    Erro quadrático                       |  55.2    |  11.5 |\n",
    "|    Erro quadratico médio                 |   0.2    | 0.04  |\n",
    "|    Soma de diferencia                    |  49.5    | 34.2  | \n",
    "|    Erro quadrático da cdf                |  0.16    | 0.21  |\n",
    "| Erro da soma do módulo das diferenças cdf|    4.5   | 6.0   |"
   ]
  },
  {
   "cell_type": "markdown",
   "metadata": {
    "collapsed": true
   },
   "source": [
    "### Conclusão \n",
    "A tabela é a junção dos erros analisados acima, então como dito antes a função lognormal passa a ser melhor para analisar os dados acumulados,nesse caso, ou seja, poderiamos usar a lognormal para responder uma pergunta como: Qual a probabilidade de uma certa mulher ter até 3 filhos?"
   ]
  }
 ],
 "metadata": {
  "anaconda-cloud": {},
  "kernelspec": {
   "display_name": "Python 3",
   "language": "python",
   "name": "python3"
  },
  "language_info": {
   "codemirror_mode": {
    "name": "ipython",
    "version": 3
   },
   "file_extension": ".py",
   "mimetype": "text/x-python",
   "name": "python",
   "nbconvert_exporter": "python",
   "pygments_lexer": "ipython3",
   "version": "3.5.1"
  }
 },
 "nbformat": 4,
 "nbformat_minor": 0
}
